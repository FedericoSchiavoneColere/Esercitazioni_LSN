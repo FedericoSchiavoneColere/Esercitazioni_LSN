{
 "cells": [
  {
   "cell_type": "code",
   "execution_count": 54,
   "id": "8e1a0654",
   "metadata": {},
   "outputs": [],
   "source": [
    "import matplotlib\n",
    "import matplotlib.pyplot as plt\n",
    "import numpy as np\n",
    "import math\n",
    "print('ciao')"
   ]
  },
  {
   "cell_type": "code",
   "execution_count": 56,
   "id": "aa0fda21",
   "metadata": {},
   "outputs": [],
   "source": [
    "media_column = []\n",
    "err_column = []\n",
    "\n",
    "with open('output_etot.dat', 'r') as file:\n",
    "    for line in file:\n",
    "        columns = line.split()\n",
    "        \n",
    "        if len(columns) >= 4:  # Ensures there are at least four columns\n",
    "            third_value = columns[2].strip()\n",
    "            fourth_value = columns[3].strip()\n",
    "\n",
    "            if third_value and fourth_value:  # Skips empty strings\n",
    "                media_column.append(float(third_value))\n",
    "                err_column.append(float(fourth_value))\n",
    "\n",
    " print(err_column)  "
   ]
  },
  {
   "cell_type": "code",
   "execution_count": 57,
   "id": "062f75aa",
   "metadata": {},
   "outputs": [],
   "source": [
    "plt.errorbar(np.arange(len(media_column)), media_column , yerr=err_column)\n",
    "plt.grid(True)\n",
    "plt.show()"
   ]
  },
  {
   "cell_type": "code",
   "execution_count": 58,
   "id": "498a2ba8",
   "metadata": {},
   "outputs": [],
   "source": [
    "media_column = []\n",
    "err_column = []\n",
    "\n",
    "with open('output_ekin.dat', 'r') as file:\n",
    "    for line in file:\n",
    "        columns = line.split()\n",
    "        \n",
    "        if len(columns) >= 4:  # Ensures there are at least four columns\n",
    "            second_value = columns[2].strip()\n",
    "            fourth_value = columns[3].strip()\n",
    "\n",
    "            if second_value and fourth_value:  # Skips empty strings\n",
    "                media_column.append(float(second_value))\n",
    "                err_column.append(float(fourth_value))\n",
    "\n",
    "    \n"
   ]
  },
  {
   "cell_type": "code",
   "execution_count": 31,
   "id": "29e1ae98",
   "metadata": {},
   "outputs": [],
   "source": [
    "plt.errorbar(np.arange(len(media_column)), media_column , yerr=err_column)\n",
    "plt.grid(True)\n",
    "plt.show()"
   ]
  },
  {
   "cell_type": "code",
   "execution_count": 32,
   "id": "979f8fb6",
   "metadata": {},
   "outputs": [],
   "source": [
    "media_column = []\n",
    "err_column = []\n",
    "\n",
    "with open('output_epot.dat', 'r') as file:\n",
    "    for line in file:\n",
    "        columns = line.split()\n",
    "        \n",
    "        if len(columns) >= 4:  # Ensures there are at least four columns\n",
    "            second_value = columns[2].strip()\n",
    "            fourth_value = columns[3].strip()\n",
    "\n",
    "            if second_value and fourth_value:  # Skips empty strings\n",
    "                media_column.append(float(second_value))\n",
    "                err_column.append(float(fourth_value))"
   ]
  },
  {
   "cell_type": "code",
   "execution_count": 33,
   "id": "c4f4e221",
   "metadata": {},
   "outputs": [],
   "source": [
    "plt.errorbar(np.arange(len(media_column)), media_column , yerr=err_column)\n",
    "plt.grid(True)\n",
    "plt.show()"
   ]
  },
  {
   "cell_type": "code",
   "execution_count": 34,
   "id": "6cff64f5",
   "metadata": {},
   "outputs": [],
   "source": [
    "media_column = []\n",
    "err_column = []\n",
    "\n",
    "with open('output_pres.dat', 'r') as file:\n",
    "    for line in file:\n",
    "        columns = line.split()\n",
    "        \n",
    "        if len(columns) >= 4:  # Ensures there are at least four columns\n",
    "            second_value = columns[2].strip()\n",
    "            fourth_value = columns[3].strip()\n",
    "\n",
    "            if second_value and fourth_value:  # Skips empty strings\n",
    "                media_column.append(float(second_value))\n",
    "                err_column.append(float(fourth_value))"
   ]
  },
  {
   "cell_type": "code",
   "execution_count": 35,
   "id": "a10b6075",
   "metadata": {},
   "outputs": [],
   "source": [
    "plt.errorbar(np.arange(len(media_column)), media_column , yerr=err_column)\n",
    "plt.grid(True)\n",
    "plt.show()"
   ]
  },
  {
   "cell_type": "code",
   "execution_count": 36,
   "id": "3d24aaa1",
   "metadata": {},
   "outputs": [],
   "source": [
    "media_column = []\n",
    "err_column = []\n",
    "\n",
    "with open('output_temp.dat', 'r') as file:\n",
    "    for line in file:\n",
    "        columns = line.split()\n",
    "        \n",
    "        if len(columns) >= 4:  # Ensures there are at least four columns\n",
    "            second_value = columns[2].strip()\n",
    "            fourth_value = columns[3].strip()\n",
    "\n",
    "            if second_value and fourth_value:  # Skips empty strings\n",
    "                media_column.append(float(second_value))\n",
    "                err_column.append(float(fourth_value))"
   ]
  },
  {
   "cell_type": "code",
   "execution_count": 37,
   "id": "8a9643bf",
   "metadata": {},
   "outputs": [],
   "source": [
    "plt.errorbar(np.arange(len(media_column)), media_column , yerr=err_column)\n",
    "plt.grid(True)\n",
    "plt.show()"
   ]
  },
  {
   "cell_type": "code",
   "execution_count": null,
   "id": "447f0d26",
   "metadata": {},
   "outputs": [],
   "source": []
  },
  {
   "cell_type": "code",
   "execution_count": null,
   "id": "6414c6fa",
   "metadata": {},
   "outputs": [],
   "source": []
  },
  {
   "cell_type": "code",
   "execution_count": null,
   "id": "e22c4d6d",
   "metadata": {},
   "outputs": [],
   "source": []
  }
 ],
 "metadata": {
  "kernelspec": {
   "display_name": "Python 3 (ipykernel)",
   "language": "python",
   "name": "python3"
  },
  "language_info": {
   "codemirror_mode": {
    "name": "ipython",
    "version": 3
   },
   "file_extension": ".py",
   "mimetype": "text/x-python",
   "name": "python",
   "nbconvert_exporter": "python",
   "pygments_lexer": "ipython3",
   "version": "3.9.16"
  }
 },
 "nbformat": 4,
 "nbformat_minor": 5
}
